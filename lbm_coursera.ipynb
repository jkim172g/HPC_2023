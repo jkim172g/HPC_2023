{
 "cells": [
  {
   "cell_type": "markdown",
   "metadata": {
    "id": "zEtXOdbc5p3C"
   },
   "source": [
    "# Intro 2D Lattice Boltzmann Modeling\n",
    "\n",
    "<a name=\"enable-gpu\"></a>\n",
    "**Note:** to enable the GPU in google colab, at the top click: *Runtime* $\\rightarrow$ *Change Runtime Type* $\\rightarrow$ *Hardware Accelerator* $\\rightarrow$ GPU\n",
    "\n",
    "---\n",
    "\n",
    "**Don't Forget:**\n",
    "\n",
    ">**“Premature optimization is the root of all evil.”**\n",
    ">\\-Donald Ervin Knuth, The Art of Computer Programming, Volume 1: Fundamental Algorithms\n",
    "\n",
    "\n",
    "---\n",
    "<a name=\"contents\"></a>\n",
    "### Contents\n",
    "- [Numpy](#numpy)\n",
    "- [Porespy](#porespy)\n",
    "- [PyTorch](#pytorch-gpu)\n",
    "- [Appendix](#appendix)\n",
    "\n",
    "---\n",
    "\n",
    "<img src=\"https://drive.google.com/uc?export=view&id=1--tpZH8RMbAwKDkB8-c5hB-gMgp8dQaH\" width=\"500\" height=\"300\"/>\n",
    "\n",
    "\n",
    "\n",
    "This is code is adapted from the [coursera course](https://www.coursera.org/learn/modeling-simulation-natural-processes) on \"Simulation and modeling of natural processes\" ([view original code](https://raw.githubusercontent.com/Sinnefa/Simulation-and-Modeling-of-Natural-Processes-Coursera-May-2020/master/Code/lbmFlowAroundCylinder.py)). These are the people who wrote the code-base for Palabos (C++). While this is simple and not written for ultra-high-performance, it is easy to disect and can help you to understand how LBMs work.  Palabos does a good job of abstracting a lot of the detail away, but for research it can be handy to see a simple LBM which you can modify and test and experiment with. If you don't want to bother with learning Palabos, there are some options you can consider for getting performance out of a python program such as MPI for python and Cuda / GPU programming (Cuda is Nvidia's language for GPU programming). [Cupy](https://cupy.dev/) (Cuda-Python) is a system that is trying to be a [drop-in replacement for numpy](https://docs.cupy.dev/en/stable/reference/comparison.html), likewise [PyTorch](https://pytorch.org/) (which is used here) has a tensor class and many functions which can be easily ported to GPUs that is very performant. A third option is JAX from google which is another numpy-replacement which can run on the GPU and has jit (just in-time compilation) which can compile functions at run-time and make them run extremely fast.\n",
    "\n",
    "Performance comparison for 1000 iterations of flow past a cylinder:\n",
    "\n",
    "| nx  | ny  | Numpy  | PyTorch (GPU \\| CPU) | speedup (torch GPU $\\leftrightarrow$ numpy) |\n",
    "| --- | --- | ---   | --- | --- |\n",
    "| 420 | 180 | ~22 s  | ~( 9 \\| 17 ) s | 2.44 $\\times$ |\n",
    "| 1000 | 300 | ~89 s  | ~( 15 \\| 55 )s | 5.93 $\\times$ |\n",
    "| 4200 | 1800 | ~44 min.   | ~( 4 \\| 26 ) min  | 11 $\\times$\n",
    "\n",
    "This is pretty significant for the ease of implementation (tensors need to be moved onto the GPU with .cuda()). There is no message passing interface.\n",
    "\n"
   ]
  },
  {
   "cell_type": "markdown",
   "metadata": {
    "id": "oBU7mlA2whTI"
   },
   "source": [
    "---\n",
    "---\n",
    "---\n",
    "<a name=\"numpy\"></a>\n",
    "# Numpy LBM\n",
    "\n",
    "[link](#contents) to contents\n",
    "\n",
    "This code is taken directly from the coursera course. (J. Latt et. al)\n"
   ]
  },
  {
   "cell_type": "code",
   "execution_count": 21,
   "metadata": {
    "id": "X4S7JiUtwhTT"
   },
   "outputs": [],
   "source": [
    "import numpy as np\n",
    "import matplotlib.pyplot as plt\n",
    "from time import time as ti\n",
    "from matplotlib import cm\n",
    "from tqdm import tqdm"
   ]
  },
  {
   "cell_type": "markdown",
   "metadata": {
    "id": "q6b-9CDqwhTU"
   },
   "source": [
    "### Extract macroscopic parameters\n",
    "\n",
    "This function returns the macroscopic variables density (rho = $\\rho$; rank-2 tensor $\\rightarrow$ scalar at every discrete lattice point) and velocity (u; rank-3 tensor x and y velocity at every discrete lattice point).\n"
   ]
  },
  {
   "cell_type": "code",
   "execution_count": 22,
   "metadata": {
    "id": "ut8CVp00whTU"
   },
   "outputs": [],
   "source": [
    "def macroscopic(fin, nx, ny, v):\n",
    "    rho = np.sum(fin,axis=0)\n",
    "    u = np.zeros((2,nx,ny))\n",
    "    for i in range(9):\n",
    "        u[0,:,:] += v[i,0]*fin[i,:,:]\n",
    "        u[1,:,:] += v[i,1]*fin[i,:,:]\n",
    "    u /= rho\n",
    "    return rho, u"
   ]
  },
  {
   "cell_type": "markdown",
   "metadata": {
    "id": "8Jt02L-DwhTU"
   },
   "source": [
    "### Equilibrium\n",
    "\n",
    "This function returns the equilibrium distribution"
   ]
  },
  {
   "cell_type": "code",
   "execution_count": 23,
   "metadata": {
    "id": "qNC2E0UFwhTU"
   },
   "outputs": [],
   "source": [
    "def equilibrium(rho, u, v, t, nx, ny):\n",
    "    usqr = (3/2)*(u[0]**2+u[1]**2)\n",
    "    feq = np.zeros((9,nx,ny))\n",
    "    for i in range(9):\n",
    "        cu = 3*(v[i,0]*u[0,:,:] + v[i,1]*u[1,:,:])\n",
    "        feq[i,:,:] = rho*t[i]*(1+cu+0.5*cu**2-usqr)\n",
    "    return feq"
   ]
  },
  {
   "cell_type": "markdown",
   "metadata": {
    "id": "TPSsiPnSwhTV"
   },
   "source": [
    "## Flow obstacle\n",
    "\n",
    "The numpy function *fromfunction* uses this function to broadcast the coordinates of the 'obstacle.' This currying is just to make a function that doesn't need any global variables. You can think about how you would use something like porespy or a CT scan to generate a porous medium that you could substitute for this function."
   ]
  },
  {
   "cell_type": "code",
   "execution_count": 24,
   "metadata": {
    "id": "6w734r3JwhTV"
   },
   "outputs": [],
   "source": [
    "def obstacle_fun(cx, cy, r):\n",
    "    def inner(x, y):\n",
    "        return (x-cx)**2+(y-cy)**2<r**2\n",
    "    return inner"
   ]
  },
  {
   "cell_type": "markdown",
   "metadata": {
    "id": "BWiKdeDCwhTV"
   },
   "source": [
    "## Inlet velocity\n",
    "\n",
    "This function instantiates the inlet boundary velocity (with a small perturbation)."
   ]
  },
  {
   "cell_type": "code",
   "execution_count": 25,
   "metadata": {
    "id": "rvrNGyUOwhTV"
   },
   "outputs": [],
   "source": [
    "def inivel( uLB, ly):\n",
    "    def inner(d,x,y):\n",
    "        return (1-d) * uLB * (1+1e-4*np.sin(y/ly*2*np.pi))\n",
    "    return inner"
   ]
  },
  {
   "cell_type": "markdown",
   "metadata": {
    "id": "oklEAhv9whTV"
   },
   "source": [
    "## Model Parameters\n",
    "\n",
    "**Lattice Numbering Scheme:**\n",
    "\n",
    "![](https://drive.google.com/uc?export=view&id=1MeGFRsq7ogNlymNrHNseXnoYQ2D_NHcA)\n",
    "\n",
    "If you look at the array **v** these are the vectors that it contains."
   ]
  },
  {
   "cell_type": "code",
   "execution_count": 26,
   "metadata": {
    "colab": {
     "base_uri": "https://localhost:8080/",
     "height": 269
    },
    "id": "36ND9SMIwhTW",
    "outputId": "13e5aea3-328c-4f73-e814-9c30888e87da"
   },
   "outputs": [
    {
     "data": {
      "image/png": "[encoded data removed]",
      "text/plain": [
       "<Figure size 640x480 with 1 Axes>"
      ]
     },
     "metadata": {},
     "output_type": "display_data"
    }
   ],
   "source": [
    "Re = 10.0                  # Reynolds number\n",
    "#------------------------------------------------------------------------------\n",
    "maxIter = 1000\n",
    "nx,ny = 420,180             # Domain dimensions\n",
    "ly = ny-1\n",
    "uLB = 0.04                  # Inlet velocity NON PHYSICAL??\n",
    "cx,cy,r = nx//4,ny//2,ny/9  # cylinder coordinates and radius (as integers)\n",
    "nulb = uLB*r/Re             # Viscosity\n",
    "omega = 1 / (3*nulb+0.5)    # Relaxation parameter\n",
    "\n",
    "# lattice velocities\n",
    "v = np.array([\n",
    "            [1,1],\n",
    "            [1,0],\n",
    "            [1,-1],\n",
    "            [0,1],\n",
    "            [0,0],\n",
    "            [0,-1],\n",
    "            [-1,1],\n",
    "            [-1,0],\n",
    "            [-1,-1]\n",
    "            ])\n",
    "\n",
    "# weights\n",
    "t = np.array([\n",
    "            1/36,\n",
    "            1/9,\n",
    "            1/36,\n",
    "            1/9,\n",
    "            4/9,\n",
    "            1/9,\n",
    "            1/36,\n",
    "            1/9,\n",
    "            1/36\n",
    "            ])\n",
    "\n",
    "col_0 = np.array([0,1,2])\n",
    "col_1 = np.array([3,4,5])\n",
    "col_2 = np.array([6,7,8])\n",
    "\n",
    "# instantiate the cylindrical obstacle\n",
    "obstacle = np.fromfunction(obstacle_fun(cx,cy,r),(nx, ny))\n",
    "if True:\n",
    "  plt.imshow(obstacle)\n",
    "\n",
    "# initial velocity profile\n",
    "vel = np.fromfunction(inivel(uLB,ly),(2,nx,ny))\n",
    "\n",
    "# initialize fin to equilibirum (rho = 1)\n",
    "fin = equilibrium(1,vel,v,t,nx,ny)"
   ]
  },
  {
   "cell_type": "markdown",
   "metadata": {
    "id": "pAHePXBLwhTW"
   },
   "source": [
    "## Time Stepping Loop"
   ]
  },
  {
   "cell_type": "code",
   "execution_count": 28,
   "metadata": {
    "colab": {
     "base_uri": "https://localhost:8080/",
     "height": 230
    },
    "id": "-0XS5mW_whTW",
    "outputId": "4c6d96ba-4a50-4707-ea58-899a9e7c897a"
   },
   "outputs": [
    {
     "name": "stderr",
     "output_type": "stream",
     "text": [
      "100%|███████████████████████████████████████| 1000/1000 [00:15<00:00, 64.03it/s]\n"
     ]
    },
    {
     "name": "stdout",
     "output_type": "stream",
     "text": [
      "time to execute =  15.619229078292847\n"
     ]
    },
    {
     "data": {
      "image/png": "[encoded data removed]",
      "text/plain": [
       "<Figure size 640x480 with 1 Axes>"
      ]
     },
     "metadata": {},
     "output_type": "display_data"
    }
   ],
   "source": [
    "#==============================================================================\n",
    "#   Time-Stepping\n",
    "#==============================================================================\n",
    "t0 = ti()\n",
    "for time in tqdm(range(maxIter)):\n",
    "    # outflow boundary condition (right side) NEUMANN BC! No gradient\n",
    "    fin[col_2,-1,:] = fin[col_2,-2,:]\n",
    "\n",
    "    # compute macroscopic variables\n",
    "    rho,u = macroscopic(fin,nx,ny,v)\n",
    "\n",
    "    # inlet boundary condition (left wall)\n",
    "    u[:,0,:] = vel[:,0,:]\n",
    "    rho[0,:] = 1/(1-u[0,0,:])*( np.sum(fin[col_1,0,:], axis = 0)+\n",
    "                                2*np.sum(fin[col_2,0,:], axis = 0))\n",
    "\n",
    "    feq = equilibrium(rho,u,v,t,nx,ny)\n",
    "    fin[col_0,0,:] = feq[col_0,0,:] + fin[col_2,0,:]-feq[col_2,0,:]\n",
    "\n",
    "    # Collide\n",
    "    fout = fin - omega*(fin-feq)\n",
    "\n",
    "    # bounceback\n",
    "    for i in range(9):\n",
    "        fout[i,obstacle] = fin[8-i,obstacle]\n",
    "\n",
    "    # stream\n",
    "    for i in range(9):\n",
    "        # be careful with this -> numpy.roll cycles through an array by an axis\n",
    "        # and the last element becomes the first. this implements a periodic\n",
    "        # boundary in a very compact syntax, but needs to be reworked for other\n",
    "        # implementations\n",
    "        fin[i,:,:] = np.roll(\n",
    "                          np.roll(\n",
    "                                fout[i,:,:], v[i,0], axis = 0\n",
    "                               ),\n",
    "                          v[i,1], axis = 1\n",
    "                          )\n",
    "\n",
    "    # Output an image every 100 iterations\n",
    "    if (time%100 == 0):\n",
    "        plt.clf()\n",
    "        plt.imshow(np.sqrt(u[0]**2+u[1]**2).T, cmap = cm.Reds)\n",
    "        plt.savefig(\"coursea_output/vel{0:03d}.png\".format(time//100))\n",
    "tf = ti() - t0\n",
    "print(\"time to execute = \",tf)"
   ]
  },
  {
   "cell_type": "markdown",
   "metadata": {
    "id": "5flXoxdkwfOE"
   },
   "source": [
    "---\n",
    "---\n",
    "---\n",
    "<a name=\"porespy\"></a>\n",
    "# Light intro to porespy + analysis\n",
    "\n",
    "[link](#contents) to contents\n",
    "\n",
    "This just goes over basic instantiation of porous domains with the *ps.generators*\n"
   ]
  },
  {
   "cell_type": "code",
   "execution_count": 8,
   "metadata": {
    "colab": {
     "base_uri": "https://localhost:8080/"
    },
    "id": "xRAHrcX_uMkz",
    "outputId": "1fe53c46-b646-4a4f-9453-16ea48a15791"
   },
   "outputs": [
    {
     "name": "stdout",
     "output_type": "stream",
     "text": [
      "\u001b[31mERROR: Cannot uninstall 'TBB'. It is a distutils installed project and thus we cannot accurately determine which files belong to it which would lead to only a partial uninstall.\u001b[0m\u001b[31m\r\n",
      "\u001b[0m"
     ]
    },
    {
     "ename": "ModuleNotFoundError",
     "evalue": "No module named 'porespy'",
     "output_type": "error",
     "traceback": [
      "\u001b[0;31m---------------------------------------------------------------------------\u001b[0m",
      "\u001b[0;31mModuleNotFoundError\u001b[0m                       Traceback (most recent call last)",
      "Cell \u001b[0;32mIn[8], line 3\u001b[0m\n\u001b[1;32m      1\u001b[0m \u001b[38;5;66;03m# Uncomment the next line to install porespy\u001b[39;00m\n\u001b[1;32m      2\u001b[0m get_ipython()\u001b[38;5;241m.\u001b[39msystem(\u001b[38;5;124m'\u001b[39m\u001b[38;5;124mpip install -q porespy==1.0.0\u001b[39m\u001b[38;5;124m'\u001b[39m)\n\u001b[0;32m----> 3\u001b[0m \u001b[38;5;28;01mimport\u001b[39;00m \u001b[38;5;21;01mporespy\u001b[39;00m \u001b[38;5;28;01mas\u001b[39;00m \u001b[38;5;21;01mps\u001b[39;00m\n\u001b[1;32m      4\u001b[0m \u001b[38;5;28;01mfrom\u001b[39;00m \u001b[38;5;21;01mskimage\u001b[39;00m\u001b[38;5;21;01m.\u001b[39;00m\u001b[38;5;21;01mmeasure\u001b[39;00m \u001b[38;5;28;01mimport\u001b[39;00m regionprops,label\n\u001b[1;32m      5\u001b[0m \u001b[38;5;28;01mimport\u001b[39;00m \u001b[38;5;21;01mnumpy\u001b[39;00m \u001b[38;5;28;01mas\u001b[39;00m \u001b[38;5;21;01mnp\u001b[39;00m\n",
      "\u001b[0;31mModuleNotFoundError\u001b[0m: No module named 'porespy'"
     ]
    }
   ],
   "source": [
    "# Uncomment the next line to install porespy\n",
    "!pip install -q porespy==1.0.0\n",
    "import porespy as ps\n",
    "from skimage.measure import regionprops,label\n",
    "import numpy as np"
   ]
  },
  {
   "cell_type": "markdown",
   "metadata": {
    "id": "NQp8-qR00vdU"
   },
   "source": [
    "### Parameters\n",
    "\n",
    "These are some arbitrary parameters as argument for porespy generators.\n",
    "\n"
   ]
  },
  {
   "cell_type": "code",
   "execution_count": 9,
   "metadata": {
    "id": "fm0Kjf0KwQuN"
   },
   "outputs": [],
   "source": [
    "dim = 200\n",
    "X,Y,Z = dim,dim,dim\n",
    "shape = [X,Y]             # for 3D generators, add Z to this list\n",
    "porosity = 0.9\n",
    "blobiness = 1\n",
    "ncylinders = 100"
   ]
  },
  {
   "cell_type": "markdown",
   "metadata": {
    "id": "wfd362g0yYXk"
   },
   "source": [
    "### Generators\n",
    "\n",
    "Note that some of the generators take different kwargs. To see what the names of the kwargs are for a generator use:\n",
    "\n",
    "```python\n",
    "# example\n",
    "help(ps.generators.blobs)\n",
    "```\n",
    "\n",
    "This prints out the the Parameters that can be passed to this function as keyword arguments.\n",
    "\n",
    "There are two outputs that the generators in porespy produce:\n",
    "1. nd-arrays of booleans\n",
    "2. nd-arrays of floats."
   ]
  },
  {
   "cell_type": "code",
   "execution_count": 10,
   "metadata": {
    "id": "UdDwgSSCyK_0"
   },
   "outputs": [
    {
     "ename": "NameError",
     "evalue": "name 'ps' is not defined",
     "output_type": "error",
     "traceback": [
      "\u001b[0;31m---------------------------------------------------------------------------\u001b[0m",
      "\u001b[0;31mNameError\u001b[0m                                 Traceback (most recent call last)",
      "Cell \u001b[0;32mIn[10], line 5\u001b[0m\n\u001b[1;32m      1\u001b[0m \u001b[38;5;66;03m#help(ps.generators.blobs)\u001b[39;00m\n\u001b[1;32m      2\u001b[0m \u001b[38;5;66;03m#===============================================================================\u001b[39;00m\n\u001b[1;32m      3\u001b[0m \u001b[38;5;66;03m#   bool\u001b[39;00m\n\u001b[1;32m      4\u001b[0m \u001b[38;5;66;03m#-------------------------------------------------------------------------------\u001b[39;00m\n\u001b[0;32m----> 5\u001b[0m im \u001b[38;5;241m=\u001b[39m \u001b[38;5;241m~\u001b[39m\u001b[43mps\u001b[49m\u001b[38;5;241m.\u001b[39mgenerators\u001b[38;5;241m.\u001b[39mblobs( shape\u001b[38;5;241m=\u001b[39mshape,\n\u001b[1;32m      6\u001b[0m                            porosity \u001b[38;5;241m=\u001b[39m porosity,\n\u001b[1;32m      7\u001b[0m                            blobiness\u001b[38;5;241m=\u001b[39mblobiness)\n",
      "\u001b[0;31mNameError\u001b[0m: name 'ps' is not defined"
     ]
    }
   ],
   "source": [
    "#help(ps.generators.blobs)\n",
    "#===============================================================================\n",
    "#   bool\n",
    "#-------------------------------------------------------------------------------\n",
    "im = ~ps.generators.blobs( shape=shape,\n",
    "                           porosity = porosity,\n",
    "                           blobiness=blobiness)\n",
    "#im = ps.generators.cylinders(   shape=shape,\n",
    "#                                radius = radius,\n",
    "#                                ncylinders = ncylinders,\n",
    "#                                theta_max = 90,\n",
    "#                                phi_max = 90)\n",
    "#im = ps.generators.overlapping_spheres(shape=shape,\n",
    "#                                       radius = radius,\n",
    "#                                       porosity = porosity)\n",
    "#im = ps.generators.polydisperse_spheres(   shape=shape,\n",
    "#                                           dist = dist,\n",
    "#                                           porosity = porosity)\n",
    "\n",
    "#===============================================================================\n",
    "#   float\n",
    "#-------------------------------------------------------------------------------\n",
    "#im = ps.generators.bundle_of_tubes(shape=shape,\n",
    "#                                   spacing = 4)\n",
    "#im = ps.generators.generate_noise(shape=shape)"
   ]
  },
  {
   "cell_type": "markdown",
   "metadata": {
    "id": "Srey9GcVy7__"
   },
   "source": [
    "### Visualization\n",
    "notes:\n",
    "- visualiztion.sem and xray only take binary or boolean arrays"
   ]
  },
  {
   "cell_type": "code",
   "execution_count": null,
   "metadata": {
    "colab": {
     "base_uri": "https://localhost:8080/",
     "height": 553
    },
    "id": "XgUnVoT2yTDr",
    "outputId": "0868525c-4405-4a61-e458-f81c55d870b3"
   },
   "outputs": [
    {
     "name": "stdout",
     "output_type": "stream",
     "text": [
      "-------------------------------------------------------\n",
      "porosity =  0.895475\n",
      "mean \"fiber\" diameter =  12.060132308424363  pixels\n",
      "-------------------------------------------------------\n"
     ]
    },
    {
     "data": {
      "image/png": "[encoded data removed]",
      "text/plain": [
       "<Figure size 1440x720 with 2 Axes>"
      ]
     },
     "metadata": {
      "needs_background": "light",
      "tags": []
     },
     "output_type": "display_data"
    }
   ],
   "source": [
    "fs = (10,10)\n",
    "fig,ax = plt.subplots(1,2, figsize = (20,10))\n",
    "ax[0].imshow(im)\n",
    "ax[1].imshow(ps.visualization.sem(im))                            # nothing for 2D domains\n",
    "#area = region_surface_areas(im)\n",
    "labels = label(im)                                              # segment image\n",
    "props = regionprops(labels)                                     # return properties of segmented image\n",
    "fiber_dia = np.mean([el.equivalent_diameter for el in props])   # avg. fiber diameter\n",
    "print(\"-\"*55)\n",
    "print('porosity = ',1-ps.metrics.porosity(im))\n",
    "print('mean \"fiber\" diameter = ',fiber_dia,\" pixels\")\n",
    "print(\"-\"*55)"
   ]
  },
  {
   "cell_type": "markdown",
   "metadata": {
    "id": "QeQ-YhDH4zDg"
   },
   "source": [
    "### Interfacing with coursera LBM code\n",
    "\n",
    "You might try something like this for replacing obstacle_fun in your code. (Don't forget to put this tensor onto the GPU if you are using cuda.)\n",
    "\n",
    "Note: tilde (~) is boolean negate."
   ]
  },
  {
   "cell_type": "code",
   "execution_count": 29,
   "metadata": {
    "colab": {
     "base_uri": "https://localhost:8080/",
     "height": 647
    },
    "id": "MYRKhYBhy4YW",
    "outputId": "5810da73-37cf-412b-be78-daede9f13af8"
   },
   "outputs": [
    {
     "ename": "NameError",
     "evalue": "name 'ps' is not defined",
     "output_type": "error",
     "traceback": [
      "\u001b[0;31m---------------------------------------------------------------------------\u001b[0m",
      "\u001b[0;31mNameError\u001b[0m                                 Traceback (most recent call last)",
      "Cell \u001b[0;32mIn[29], line 7\u001b[0m\n\u001b[1;32m      1\u001b[0m kwargs \u001b[38;5;241m=\u001b[39m {\n\u001b[1;32m      2\u001b[0m           \u001b[38;5;124m'\u001b[39m\u001b[38;5;124mshape\u001b[39m\u001b[38;5;124m'\u001b[39m:[\u001b[38;5;241m420\u001b[39m,\u001b[38;5;241m180\u001b[39m],\n\u001b[1;32m      3\u001b[0m           \u001b[38;5;124m'\u001b[39m\u001b[38;5;124mporosity\u001b[39m\u001b[38;5;124m'\u001b[39m:\u001b[38;5;241m.9\u001b[39m,\n\u001b[1;32m      4\u001b[0m           \u001b[38;5;124m'\u001b[39m\u001b[38;5;124mblobiness\u001b[39m\u001b[38;5;124m'\u001b[39m:\u001b[38;5;241m3\u001b[39m\n\u001b[1;32m      5\u001b[0m           }\n\u001b[0;32m----> 7\u001b[0m obstacle \u001b[38;5;241m=\u001b[39m \u001b[38;5;241m~\u001b[39m\u001b[43mps\u001b[49m\u001b[38;5;241m.\u001b[39mgenerators\u001b[38;5;241m.\u001b[39mblobs(\u001b[38;5;241m*\u001b[39m\u001b[38;5;241m*\u001b[39mkwargs)\n\u001b[1;32m      8\u001b[0m obstacle \u001b[38;5;241m=\u001b[39m \u001b[38;5;241m~\u001b[39mps\u001b[38;5;241m.\u001b[39mgenerators\u001b[38;5;241m.\u001b[39mblobs(\u001b[38;5;241m*\u001b[39m\u001b[38;5;241m*\u001b[39mkwargs)\n\u001b[1;32m     10\u001b[0m \u001b[38;5;66;03m# Metrics for this domain\u001b[39;00m\n",
      "\u001b[0;31mNameError\u001b[0m: name 'ps' is not defined"
     ]
    }
   ],
   "source": [
    "kwargs = {\n",
    "          'shape':[420,180],\n",
    "          'porosity':.9,\n",
    "          'blobiness':3\n",
    "          }\n",
    "\n",
    "obstacle = ~ps.generators.blobs(**kwargs)\n",
    "obstacle = ~ps.generators.blobs(**kwargs)\n",
    "\n",
    "# Metrics for this domaindef distance(x1, y1, x2, y2):\n",
    "    return np.sqrt((x2-x1)**2 + (y2-y1)**2)\n",
    "\n",
    "@jit\n",
    "def collision():\n",
    "    Feq = np.zeros(F.shape)\n",
    "    for i, cx, cy, w in zip(range(NL), cxs, cys, weights):\n",
    "        Feq[:, :, i] = rho * w* (\n",
    "            1 + 3 * (cx*ux + cy*uy) + 9 * (cx*ux + cy*uy)**2 / 2 - 3 *(ux**2 + uy**2)/2\n",
    "        )\n",
    "\n",
    "    return F + -(1/tau) * (F-Feq)\n",
    "\n",
    "@cuda.jit\n",
    "def collision_kernel():\n",
    "    F = collision_gpu\n",
    "labels = label(obstacle)                                              # segment image\n",
    "props = regionprops(labels)                                     # return properties of segmented obstacleage\n",
    "fiber_dia = np.mean([el.equivalent_diameter for el in props])   # avg. fiber diameter\n",
    "print('porosity = ',1-ps.metrics.porosity(obstacle))\n",
    "print('mean \"fiber\" diameter = ',fiber_dia,\" pixels\")\n",
    "plt.figure(figsize = (10,10))\n",
    "plt.imshow(obstacle)"
   ]
  },
  {
   "cell_type": "markdown",
   "metadata": {
    "id": "il_Oq-DcqMgB"
   },
   "source": [
    "---\n",
    "---\n",
    "---\n",
    "\n",
    "<a name=\"pytorch-gpu\"></a>\n",
    "# Pytorch\n",
    "\n",
    "[link](#contents) to contents\n",
    "\n",
    "- [How to enable gpu in google colab](#enable-gpu)\n",
    "\n",
    "**Note** the method *.to(device)* ports tensors to the current device which can be the GPU or CPU. You can use *.cuda()* if you always have a dedicated GPU available, but using *.to(device)* is safer and more portable. Use *.cpu()* to bring tensors back to the CPU, (if they are already present then this operation does nothing).  Calling this method is the only difference between running the code on the [CPU](#pytorch-cpu) and GPU.\n",
    "\n",
    "\n",
    "I haven't really looked into this, but it might be possible to write this program such that it can utilize [TorchScript](https://pytorch.org/tutorials/beginner/Intro_to_TorchScript_tutorial.html) which (I think) compiles it to a an intermediary representation (C++?) and can make it more performant still.\n",
    "\n",
    "Again, I modified this code on the fly, so there are still probably some things that can be optimized here."
   ]
  },
  {
   "cell_type": "code",
   "execution_count": 11,
   "metadata": {
    "id": "uhK1b3315p3P"
   },
   "outputs": [],
   "source": [
    "from time import time as ti\n",
    "from matplotlib import cm\n",
    "import matplotlib.pyplot as plt\n",
    "from tqdm import tqdm\n",
    "from numpy import fromfunction\n",
    "from numpy import pi\n",
    "import numpy as np"
   ]
  },
  {
   "cell_type": "code",
   "execution_count": 12,
   "metadata": {
    "id": "YE5oLydtvJVK"
   },
   "outputs": [],
   "source": [
    "from torch import zeros,tensor,roll,sin,sqrt,linspace\n",
    "from torch import sum as tsum\n",
    "import torch"
   ]
  },
  {
   "cell_type": "markdown",
   "metadata": {
    "id": "WnwBamN2S999"
   },
   "source": [
    "### Device selection\n",
    "\n",
    "You can select the device if you know it is an available resource, or you can use this little conditional to select 'cuda' (GPU) if its available and it will default to 'cpu' if it is not."
   ]
  },
  {
   "cell_type": "code",
   "execution_count": 33,
   "metadata": {
    "colab": {
     "base_uri": "https://localhost:8080/"
    },
    "id": "xiAGqGC0S6Ru",
    "outputId": "b23db549-652d-4a7c-a91c-fae47c3f6c63"
   },
   "outputs": [
    {
     "name": "stdout",
     "output_type": "stream",
     "text": [
      "Is CUDA supported by this system?False\n",
      "CUDA version: None\n",
      "Using device: cpu\n"
     ]
    }
   ],
   "source": [
    "print(f\"Is CUDA supported by this system?{torch.cuda.is_available()}\")\n",
    "print(f\"CUDA version: {torch.version.cuda}\")\n",
    "\n",
    "device = torch.device('cuda' if torch.cuda.is_available() else 'cpu')\n",
    "\n",
    "#-------------------------------------------------------------------------------\n",
    "# Uncomment the next line to hard code the use of cpu\n",
    "#device = torch.device('cpu')\n",
    "#-------------------------------------------------------------------------------\n",
    "\n",
    "print('Using device:', device)"
   ]
  },
  {
   "cell_type": "markdown",
   "metadata": {
    "id": "f8xbfVPw5p3Q"
   },
   "source": [
    "### Extract macroscopic parameters\n",
    "\n",
    "This function returns the macroscopic variables density (rho = $\\rho$) and velocity (u). This is used to extract the macroscopic velocity from the densities at a lattice point.\n",
    "\n",
    "Refer to **equation 15** page 34 from Lattice Boltzmann Modeling - An Introduction for Geoscientists and Engineers\n",
    "\n",
    "$$\\bf{u} = \\frac{1}{\\rho}\\Sigma_{a = 0}^8f_{a}e_a$$\n",
    "\n",
    "\n",
    "v is our variable for the lattice velocities which is the same as $\\bf{e}$ where the subscript a refers to the [0,8] lattice direction and fin is the directional density ($f_a$ in equation 15)."
   ]
  },
  {
   "cell_type": "code",
   "execution_count": 14,
   "metadata": {
    "id": "JNsQ9Dnc5p3Q"
   },
   "outputs": [],
   "source": [
    "def macroscopic(fin, nx, ny, v):\n",
    "    rho = tsum(fin,axis=0).to(device)\n",
    "    u = zeros((2,nx,ny)).to(device)\n",
    "    for i in range(9):\n",
    "        u[0,:,:] += v[i,0]*fin[i,:,:]\n",
    "        u[1,:,:] += v[i,1]*fin[i,:,:]\n",
    "    u /= rho\n",
    "    return rho, u"
   ]
  },
  {
   "cell_type": "markdown",
   "metadata": {
    "id": "ox39gz2n5p3R"
   },
   "source": [
    "### Equilibrium\n",
    "\n",
    "This function returns the equilibrium distribution\n",
    "\n",
    "Refer to **equation 17** page 35 from Lattice Boltzmann Modeling - An Introduction for Geoscientists and Engineers.\n",
    "\n",
    "$$f_a^{eq}(\\bf{x}) = w_a\\rho (\\bf{x}) \\bigg[ 1 + 3\\frac{\\bf{e_a \\cdot u}}{c^2} + \\frac{9}{2}\\frac{(\\bf{e_a\\cdot u})^2}{c^4} - \\frac{3}{2}\\frac{u^2}{c^2}\\bigg] $$\n",
    "\n",
    "| symbol | description |\n",
    "| --- | --- |\n",
    "| $f_a^{eq}(x)$ | equilibrium distribution for direction a at lattice point x|\n",
    "| $w_a$ | weight for direction a |\n",
    "| $\\rho(x)$ | density at lattice point x|\n",
    "| $e_a$ | lattice velocity in direction a |\n",
    "| $\\bf{u}$ | velocity (vector) |\n",
    "| $c$ | basic speed on the lattice  |\n",
    "\n",
    "In this function:\n",
    "1. **usqr** is the last term inside the square brackets\n",
    "2. instantiate equilibrium distribution tensor\n",
    "3. **cu** is the dot product of the velocity components ($v \\cdot u$) $\\times$ 3\n",
    "4. **rho** is the density, **t** is the weight vector the parentheses hold the bracketed terms in the equation:\n",
    "  - 1\n",
    "  - cu $\\rightarrow 3 \\times (v \\cdot u)$\n",
    "  - 0.5 * cu**2 $\\rightarrow \\frac{9}{2} \\times (v \\cdot u)^2$\n",
    "  - usqrt $\\rightarrow \\frac{3}{2}\\frac{u^2}{c^2}$\n"
   ]
  },
  {
   "cell_type": "code",
   "execution_count": 15,
   "metadata": {
    "id": "Ek9vxCLX5p3R"
   },
   "outputs": [],
   "source": [
    "def equilibrium(rho, u, v, t, nx, ny):\n",
    "    usqr = (3/2)*(u[0]**2+u[1]**2)\n",
    "    feq = zeros((9,nx,ny))\n",
    "    for i in range(9):\n",
    "        cu = 3*(v[i,0]*u[0,:,:] + v[i,1]*u[1,:,:])\n",
    "        feq[i,:,:] = rho*t[i]*(1+cu+0.5*cu**2-usqr)\n",
    "    return feq.to(device)"
   ]
  },
  {
   "cell_type": "markdown",
   "metadata": {
    "id": "rs1fMW6J5p3R"
   },
   "source": [
    "## Flow obstacle\n",
    "\n",
    "The numpy function *fromfunction* uses this function to broadcast the coordinates of the 'obstacle.' This currying is just to make a function that doesn't need any global variables. You can think about how you would use something like porespy or a CT scan to generate a porous medium that you could substitute for this function.\n",
    "\n",
    "Alternately you can use the porespy generators to create a porous domain"
   ]
  },
  {
   "cell_type": "code",
   "execution_count": 16,
   "metadata": {
    "id": "4x7um-6x5p3R"
   },
   "outputs": [],
   "source": [
    "def obstacle_fun(cx, cy, r):\n",
    "    def ret_fun(x, y):\n",
    "        return (x-cx)**2+(y-cy)**2<r**2\n",
    "    return ret_fun\n",
    "\n",
    "def obstacle_porous(**kwargs):\n",
    "  return ~kwargs['generator'](**kwargs)"
   ]
  },
  {
   "cell_type": "markdown",
   "metadata": {
    "id": "5AMG1aip5p3S"
   },
   "source": [
    "## Inlet velocity\n",
    "\n",
    "This function instantiates the inlet boundary velocity (with a small perturbation)."
   ]
  },
  {
   "cell_type": "code",
   "execution_count": 17,
   "metadata": {
    "id": "JqDvPA085p3S"
   },
   "outputs": [],
   "source": [
    "def inivel( uLB, ly, d, nx, ny):\n",
    "  _,yy = torch.meshgrid(linspace(0,nx-1,nx),linspace(0,ny-1,ny))\n",
    "  yy.to(device)\n",
    "  vel = zeros((d,nx,ny)).to(device)\n",
    "  for dir in range(d):\n",
    "    vel[dir,:,:] = (1-dir) * uLB * (1+1e-4*sin(yy/ly*2*pi))\n",
    "  return vel"
   ]
  },
  {
   "cell_type": "markdown",
   "metadata": {
    "id": "wUdFF4yp5p3S"
   },
   "source": [
    "## Model Parameters\n",
    "\n",
    "**Lattice Numbering Scheme:**\n",
    "\n",
    "![](https://drive.google.com/uc?export=view&id=1MeGFRsq7ogNlymNrHNseXnoYQ2D_NHcA)\n",
    "\n"
   ]
  },
  {
   "cell_type": "code",
   "execution_count": 18,
   "metadata": {
    "colab": {
     "base_uri": "https://localhost:8080/",
     "height": 269
    },
    "id": "W407G3nI5p3S",
    "outputId": "112a0803-6aa7-4f1b-8ef0-46d7d85d1785"
   },
   "outputs": [
    {
     "ename": "NameError",
     "evalue": "name 'kwargs' is not defined",
     "output_type": "error",
     "traceback": [
      "\u001b[0;31m---------------------------------------------------------------------------\u001b[0m",
      "\u001b[0;31mNameError\u001b[0m                                 Traceback (most recent call last)",
      "Cell \u001b[0;32mIn[18], line 45\u001b[0m\n\u001b[1;32m     40\u001b[0m col_2 \u001b[38;5;241m=\u001b[39m tensor([\u001b[38;5;241m6\u001b[39m,\u001b[38;5;241m7\u001b[39m,\u001b[38;5;241m8\u001b[39m])\u001b[38;5;241m.\u001b[39mlong()\u001b[38;5;241m.\u001b[39mto(device)\n\u001b[1;32m     42\u001b[0m \u001b[38;5;66;03m#------------------------------------------------------------------------------\u001b[39;00m\n\u001b[1;32m     43\u001b[0m \u001b[38;5;66;03m# instantiate the obstacle\u001b[39;00m\n\u001b[1;32m     44\u001b[0m \u001b[38;5;66;03m#obstacle = tensor(fromfunction(obstacle_fun(cx,cy,r),(nx, ny))).to(device)\u001b[39;00m\n\u001b[0;32m---> 45\u001b[0m \u001b[43mkwargs\u001b[49m[\u001b[38;5;124m'\u001b[39m\u001b[38;5;124mshape\u001b[39m\u001b[38;5;124m'\u001b[39m] \u001b[38;5;241m=\u001b[39m [nx,ny]\n\u001b[1;32m     46\u001b[0m obstacle \u001b[38;5;241m=\u001b[39m tensor(\u001b[38;5;241m~\u001b[39mps\u001b[38;5;241m.\u001b[39mgenerators\u001b[38;5;241m.\u001b[39mblobs(\u001b[38;5;241m*\u001b[39m\u001b[38;5;241m*\u001b[39mkwargs))\u001b[38;5;241m.\u001b[39mto(device)\n\u001b[1;32m     47\u001b[0m \u001b[38;5;66;03m#obstacle = torch.tensor(fromfunction(obstacle_fun(cx,cy,r),(nx, ny)))\u001b[39;00m\n",
      "\u001b[0;31mNameError\u001b[0m: name 'kwargs' is not defined"
     ]
    }
   ],
   "source": [
    "Re = 10.0                  # Reynolds number\n",
    "#------------------------------------------------------------------------------\n",
    "maxIter = 1000              # Total number of iterations\n",
    "nx,ny = 420,180             # Domain dimensions (lattice nodes)\n",
    "ly = ny-1                   # Height of the domain in lattice units\n",
    "uLB = 0.04                  # Velocity in lattice units\n",
    "cx,cy,r = nx//4,ny//2,ny/9  # Cylinder coordinates and radius (as integers)\n",
    "nulb = uLB*r/Re             # Viscosity in lattice units\n",
    "omega = 1 / (3*nulb+0.5)    # Relaxation frequency\n",
    "\n",
    "# lattice velocities\n",
    "v = tensor([\n",
    "            [1,1],\n",
    "            [1,0],\n",
    "            [1,-1],\n",
    "            [0,1],\n",
    "            [0,0],\n",
    "            [0,-1],\n",
    "            [-1,1],\n",
    "            [-1,0],\n",
    "            [-1,-1]\n",
    "            ]).int().to(device)\n",
    "\n",
    "# weights\n",
    "t = tensor([\n",
    "            1/36,\n",
    "            1/9,\n",
    "            1/36,\n",
    "            1/9,\n",
    "            4/9,\n",
    "            1/9,\n",
    "            1/36,\n",
    "            1/9,\n",
    "            1/36\n",
    "            ]).float().to(device)\n",
    "\n",
    "# these variables used to group indices\n",
    "col_0 = tensor([0,1,2]).long().to(device)\n",
    "col_1 = tensor([3,4,5]).long().to(device)\n",
    "col_2 = tensor([6,7,8]).long().to(device)\n",
    "\n",
    "#------------------------------------------------------------------------------\n",
    "# instantiate the obstacle\n",
    "#obstacle = tensor(fromfunction(obstacle_fun(cx,cy,r),(nx, ny))).to(device)\n",
    "kwargs['shape'] = [nx,ny]\n",
    "obstacle = tensor(~ps.generators.blobs(**kwargs)).to(device)\n",
    "#obstacle = torch.tensor(fromfunction(obstacle_fun(cx,cy,r),(nx, ny)))\n",
    "plt.imshow(obstacle.cpu())\n",
    "#------------------------------------------------------------------------------\n",
    "\n",
    "# initial velocity profile\n",
    "vel = inivel(uLB, ly, 2, nx, ny)\n",
    "\n",
    "#--------------------------------------------------------------\n",
    "# initialize fin to equilibirum (rho = 1)\n",
    "fin = equilibrium(1,vel,v,t,nx,ny).to(device)\n"
   ]
  },
  {
   "cell_type": "markdown",
   "metadata": {
    "id": "BljnqCZe5p3T"
   },
   "source": [
    "## Time Stepping Loop\n",
    "\n",
    "Note the stream / collision equation is **equation 16** page 35 from Lattice Boltzmann Modeling....\n",
    "\n",
    "$$f_a(x+e_a\\Delta t,t+\\Delta t) = f_a(x,t) - \\frac{[f_a(x,t)-f_a^{eq}(x,t)]}{\\tau}$$\n",
    "\n",
    "Where:\n",
    "$$stream \\rightarrow f_a(x+e_a\\Delta t,t+\\Delta t) = f_a(x,t)$$\n",
    "$$collide \\rightarrow - \\frac{[f_a(x,t)-f_a^{eq}(x,t)]}{\\tau}$$\n",
    "\n",
    "Note: $\\omega = \\frac{1}{\\tau}$"
   ]
  },
  {
   "cell_type": "code",
   "execution_count": 19,
   "metadata": {
    "colab": {
     "base_uri": "https://localhost:8080/",
     "height": 230
    },
    "id": "_3YrrVkk5p3T",
    "outputId": "afb15516-013f-42fc-9d0d-e94af5dd24c1"
   },
   "outputs": [
    {
     "name": "stderr",
     "output_type": "stream",
     "text": [
      "  0%|                                                  | 0/1000 [00:00<?, ?it/s]\n"
     ]
    },
    {
     "ename": "TypeError",
     "evalue": "sum() received an invalid combination of arguments - got (numpy.ndarray, axis=int), but expected one of:\n * (Tensor input, *, torch.dtype dtype)\n * (Tensor input, tuple of ints dim, bool keepdim, *, torch.dtype dtype, Tensor out)\n * (Tensor input, tuple of names dim, bool keepdim, *, torch.dtype dtype, Tensor out)\n",
     "output_type": "error",
     "traceback": [
      "\u001b[0;31m---------------------------------------------------------------------------\u001b[0m",
      "\u001b[0;31mTypeError\u001b[0m                                 Traceback (most recent call last)",
      "Cell \u001b[0;32mIn[19], line 10\u001b[0m\n\u001b[1;32m      7\u001b[0m fin[col_2,\u001b[38;5;241m-\u001b[39m\u001b[38;5;241m1\u001b[39m,:] \u001b[38;5;241m=\u001b[39m fin[col_2,\u001b[38;5;241m-\u001b[39m\u001b[38;5;241m2\u001b[39m,:]\n\u001b[1;32m      9\u001b[0m \u001b[38;5;66;03m# compute macroscopic variables\u001b[39;00m\n\u001b[0;32m---> 10\u001b[0m rho,u \u001b[38;5;241m=\u001b[39m \u001b[43mmacroscopic\u001b[49m\u001b[43m(\u001b[49m\u001b[43mfin\u001b[49m\u001b[43m,\u001b[49m\u001b[43mnx\u001b[49m\u001b[43m,\u001b[49m\u001b[43mny\u001b[49m\u001b[43m,\u001b[49m\u001b[43mv\u001b[49m\u001b[43m)\u001b[49m\n\u001b[1;32m     12\u001b[0m \u001b[38;5;66;03m# inlet boundary condition (left wall)\u001b[39;00m\n\u001b[1;32m     13\u001b[0m u[:,\u001b[38;5;241m0\u001b[39m,:] \u001b[38;5;241m=\u001b[39m vel[:,\u001b[38;5;241m0\u001b[39m,:]\n",
      "Cell \u001b[0;32mIn[14], line 2\u001b[0m, in \u001b[0;36mmacroscopic\u001b[0;34m(fin, nx, ny, v)\u001b[0m\n\u001b[1;32m      1\u001b[0m \u001b[38;5;28;01mdef\u001b[39;00m \u001b[38;5;21mmacroscopic\u001b[39m(fin, nx, ny, v):\n\u001b[0;32m----> 2\u001b[0m     rho \u001b[38;5;241m=\u001b[39m \u001b[43mtsum\u001b[49m\u001b[43m(\u001b[49m\u001b[43mfin\u001b[49m\u001b[43m,\u001b[49m\u001b[43maxis\u001b[49m\u001b[38;5;241;43m=\u001b[39;49m\u001b[38;5;241;43m0\u001b[39;49m\u001b[43m)\u001b[49m\u001b[38;5;241m.\u001b[39mto(device)\n\u001b[1;32m      3\u001b[0m     u \u001b[38;5;241m=\u001b[39m zeros((\u001b[38;5;241m2\u001b[39m,nx,ny))\u001b[38;5;241m.\u001b[39mto(device)\n\u001b[1;32m      4\u001b[0m     \u001b[38;5;28;01mfor\u001b[39;00m i \u001b[38;5;129;01min\u001b[39;00m \u001b[38;5;28mrange\u001b[39m(\u001b[38;5;241m9\u001b[39m):\n",
      "\u001b[0;31mTypeError\u001b[0m: sum() received an invalid combination of arguments - got (numpy.ndarray, axis=int), but expected one of:\n * (Tensor input, *, torch.dtype dtype)\n * (Tensor input, tuple of ints dim, bool keepdim, *, torch.dtype dtype, Tensor out)\n * (Tensor input, tuple of names dim, bool keepdim, *, torch.dtype dtype, Tensor out)\n"
     ]
    }
   ],
   "source": [
    "#==============================================================================\n",
    "#   Time-Stepping\n",
    "#==============================================================================\n",
    "t0 = ti()\n",
    "for time in tqdm(range(maxIter)):\n",
    "    # outflow boundary condition (right side) NEUMANN BC! No gradient\n",
    "    fin[col_2,-1,:] = fin[col_2,-2,:]\n",
    "\n",
    "    # compute macroscopic variables\n",
    "    rho,u = macroscopic(fin,nx,ny,v)\n",
    "\n",
    "    # inlet boundary condition (left wall)\n",
    "    u[:,0,:] = vel[:,0,:]\n",
    "    rho[0,:] = 1/(1-u[0,0,:])*( tsum(fin[col_1,0,:], axis = 0)+\n",
    "                                2*tsum(fin[col_2,0,:], axis = 0))\n",
    "\n",
    "    # Equilibrium\n",
    "    feq = equilibrium(rho,u,v,t,nx,ny)\n",
    "\n",
    "    fin[col_0,0,:] = feq[col_0,0,:] + fin[col_2,0,:]-feq[col_2,0,:]\n",
    "\n",
    "    # Collide\n",
    "    fout = fin - omega*(fin-feq)\n",
    "\n",
    "    # bounceback:\n",
    "    # refer to the lattice numbering scheme to see 8-i is always the opposite of\n",
    "    # direction i!\n",
    "    for i in range(9):\n",
    "        fout[i,obstacle] = fin[8-i,obstacle]\n",
    "\n",
    "    # stream\n",
    "    for i in range(9):\n",
    "        # be careful with this -> roll cycles througdef distance(x1, y1, x2, y2):\n",
    "    return np.sqrt((x2-x1)**2 + (y2-y1)**2)\n",
    "\n",
    "@jit\n",
    "def collision():\n",
    "    Feq = np.zeros(F.shape)\n",
    "    for i, cx, cy, w in zip(range(NL), cxs, cys, weights):\n",
    "        Feq[:, :, i] = rho * w* (\n",
    "            1 + 3 * (cx*ux + cy*uy) + 9 * (cx*ux + cy*uy)**2 / 2 - 3 *(ux**2 + uy**2)/2\n",
    "        )\n",
    "\n",
    "    return F + -(1/tau) * (F-Feq)\n",
    "\n",
    "@cuda.jit\n",
    "def collision_kernel():\n",
    "    F = collision_gpuh an array by an axis\n",
    "        # and the last element becomes the first. this implements a periodic\n",
    "        # boundary in a very compact syntax, but needs to be reworked for other\n",
    "        # implementations\n",
    "        fin[i,:,:] = roll(\n",
    "                          roll(\n",
    "                                fout[i,:,:], v[i,0].item(), dims = 0\n",
    "                               ),\n",
    "                          v[i,1].item(), dims = 1\n",
    "                          )\n",
    "\n",
    "    # Output an image every 100 iterations\n",
    "    if (time%100 == 0):\n",
    "        plt.clf()\n",
    "        u_cpu = u.cpu()\n",
    "        x_temp = int(round(5*nx/ny))\n",
    "        y_temp = int(round(5))\n",
    "        plt.imshow(sqrt(u_cpu[0]**2+u_cpu[1]**2).T, cmap = 'Reds')\n",
    "        #plt.axis('equal')\n",
    "        #plt.savefig(\"vel{0:03d}.png\".format(time//100))\n",
    "tf = ti() - t0\n",
    "print(\"time to execute = \",tf)"
   ]
  },
  {
   "cell_type": "markdown",
   "metadata": {
    "id": "7aqWgIVtsO1y"
   },
   "source": [
    "---\n",
    "---\n",
    "---\n",
    "<a name=\"appendix\"></a>\n",
    "\n",
    "# Appendix: Plotting Lattice directions\n",
    "\n",
    "[link](#contents) to contents\n",
    "\n",
    "This is just for being OCD about the figures showing the lattice directions."
   ]
  },
  {
   "cell_type": "code",
   "execution_count": null,
   "metadata": {
    "colab": {
     "base_uri": "https://localhost:8080/"
    },
    "id": "aQXyLSwd-z1o",
    "outputId": "d74b97ee-3345-4fb0-8a27-40537deaf289"
   },
   "outputs": [
    {
     "data": {
      "image/png": "[encoded data removed]",
      "text/plain": [
       "<Figure size 1008x504 with 2 Axes>"
      ]
     },
     "metadata": {
      "needs_background": "light",
      "tags": []
     },
     "output_type": "display_data"
    }
   ],
   "source": [
    "fontsize = 14\n",
    "length = 2\n",
    "plt.style.use('bmh')\n",
    "def draw_lattice(   ax, coords, width=.025, head_width=.2, head_length=.2,\n",
    "                    annotation_offset=1.25):\n",
    "    ax.arrow(   0,0,coords[0],coords[1],\n",
    "                width = width,\n",
    "                head_length=head_width,\n",
    "                head_width=head_length,\n",
    "                color = 'k')\n",
    "    aos = annotation_offset\n",
    "    ax.annotate(coords[2],xy=(aos*coords[0],aos*coords[1]),xytext=(aos*coords[0],aos*coords[1]),\n",
    "                horizontalalignment = 'center',\n",
    "                verticalalignment = 'center',\n",
    "                fontsize = fontsize)\n",
    "\n",
    "def plot_column(ax,x0,x2,y, alpha = 0.3):\n",
    "  for x in [x0,x2]:\n",
    "    ax.plot([x,x],[-y/2,y/2],'k', linestyle = (0,(5,5)), alpha = alpha)\n",
    "\n",
    "def lattice_fig(fig, ax, coords):\n",
    "    for pair in coords:\n",
    "        draw_lattice(ax,pair)\n",
    "    #plt.box(False)\n",
    "    ax.set_xlim(-length*1.5,length*1.5)\n",
    "    ax.set_ylim(-length*1.5,length*1.7)\n",
    "    ax.xaxis.set_ticklabels([])\n",
    "    ax.yaxis.set_ticklabels([])\n",
    "    ax.set_aspect('equal')\n",
    "    ax.xaxis.set_tick_params(bottom=False,top=False,right=False,left=False)\n",
    "    ax.yaxis.set_tick_params(right=False,left=False)\n",
    "\n",
    "\n",
    "#==============================================================================\n",
    "# Draw D2Q9 Lattice\n",
    "#==============================================================================\n",
    "op = [\n",
    "        (length,length,'0'),\n",
    "        (length,0,'1'),\n",
    "        (length,-length,'2'),\n",
    "        (0,length,'3'),\n",
    "        (0,-length,'5'),\n",
    "        (-length,length,'6'),\n",
    "        (-length,0,'7'),\n",
    "        (-length,-length,'8'),\n",
    "        ]\n",
    "\n",
    "fig,ax = plt.subplots(1, 2, num  = 0,figsize = (14,7))\n",
    "xval = .066\n",
    "yval = .185\n",
    "for a in ax:\n",
    "  lattice_fig(fig,a,op)\n",
    "  a.annotate('4',xy=(xval,yval),xytext=(xval,yval),\n",
    "              horizontalalignment = 'left',\n",
    "              verticalalignment = 'bottom',\n",
    "              fontsize = fontsize)\n",
    "  a.grid(False)\n",
    "# Overlaying the Columns\n",
    "dx = .4\n",
    "dy = .4\n",
    "fs = 16\n",
    "plot_column(ax[1], length, length*(1+dx), length*(1+dy)*2)\n",
    "plot_column(ax[1], -length, -length*(1+dx), length*(1+dy)*2)\n",
    "plot_column(ax[1], -dx, dx, length*(1+dy)*2)\n",
    "# Annotations for column names\n",
    "ax[1].text(length*1.2,  length*1.5,'Col$_0$', horizontalalignment = 'center', fontsize = fs)\n",
    "ax[1].text(0,           length*1.5,'Col$_1$', horizontalalignment = 'center', fontsize = fs)\n",
    "ax[1].text(-length*1.2, length*1.5,'Col$_2$', horizontalalignment = 'center', fontsize = fs)\n",
    "fig.tight_layout()\n",
    "plt.savefig(\"lattice_diagram.png\")\n",
    "plt.show()"
   ]
  }
 ],
 "metadata": {
  "accelerator": "GPU",
  "colab": {
   "collapsed_sections": [
    "oBU7mlA2whTI",
    "5flXoxdkwfOE",
    "il_Oq-DcqMgB",
    "7aqWgIVtsO1y"
   ],
   "provenance": []
  },
  "kernelspec": {
   "display_name": "Python 3 (ipykernel)",
   "language": "python",
   "name": "python3"
  },
  "language_info": {
   "codemirror_mode": {
    "name": "ipython",
    "version": 3
   },
   "file_extension": ".py",
   "mimetype": "text/x-python",
   "name": "python",
   "nbconvert_exporter": "python",
   "pygments_lexer": "ipython3",
   "version": "3.10.9"
  }
 },
 "nbformat": 4,
 "nbformat_minor": 1
}
