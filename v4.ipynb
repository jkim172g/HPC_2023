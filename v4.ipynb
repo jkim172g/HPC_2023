{
 "cells": [
  {
   "cell_type": "code",
   "execution_count": 1,
   "id": "cfe60958",
   "metadata": {},
   "outputs": [],
   "source": [
    "import numpy as np\n",
    "import matplotlib.pyplot as plt\n",
    "from time import time as ti\n",
    "from matplotlib import cm\n",
    "from tqdm import tqdm"
   ]
  },
  {
   "cell_type": "code",
   "execution_count": 2,
   "id": "c4077f47",
   "metadata": {},
   "outputs": [],
   "source": [
    "def macroscopic(fin, nx, ny, v):\n",
    "    rho = tsum(fin,axis=0).to(device)\n",
    "    u = zeros((2,nx,ny)).to(device)\n",
    "    for i in range(9):\n",
    "        u[0,:,:] += v[i,0]*fin[i,:,:]\n",
    "        u[1,:,:] += v[i,1]*fin[i,:,:]\n",
    "    u /= rho\n",
    "    return rho, u"
   ]
  },
  {
   "cell_type": "code",
   "execution_count": 3,
   "id": "07943ea4",
   "metadata": {},
   "outputs": [],
   "source": [
    "def obstacle_fun(cx, cy, r):\n",
    "    def ret_fun(x, y):\n",
    "        return (x-cx)**2+(y-cy)**2<r**2\n",
    "    return ret_fun\n",
    "\n",
    "def obstacle_porous(**kwargs):\n",
    "  return ~kwargs['generator'](**kwargs)"
   ]
  },
  {
   "cell_type": "code",
   "execution_count": 4,
   "id": "2e5c944a",
   "metadata": {},
   "outputs": [],
   "source": [
    "def inivel( uLB, ly, d, nx, ny):\n",
    "  _,yy = torch.meshgrid(linspace(0,nx-1,nx),linspace(0,ny-1,ny))\n",
    "  yy.to(device)\n",
    "  vel = zeros((d,nx,ny)).to(device)\n",
    "  for dir in range(d):\n",
    "    vel[dir,:,:] = (1-dir) * uLB * (1+1e-4*sin(yy/ly*2*pi))\n",
    "  return vel"
   ]
  },
  {
   "cell_type": "code",
   "execution_count": 5,
   "id": "669192ca",
   "metadata": {},
   "outputs": [
    {
     "ename": "NameError",
     "evalue": "name 'tensor' is not defined",
     "output_type": "error",
     "traceback": [
      "\u001b[0;31m---------------------------------------------------------------------------\u001b[0m",
      "\u001b[0;31mNameError\u001b[0m                                 Traceback (most recent call last)",
      "Cell \u001b[0;32mIn[5], line 12\u001b[0m\n\u001b[1;32m      9\u001b[0m omega \u001b[38;5;241m=\u001b[39m \u001b[38;5;241m1\u001b[39m \u001b[38;5;241m/\u001b[39m (\u001b[38;5;241m3\u001b[39m\u001b[38;5;241m*\u001b[39mnulb\u001b[38;5;241m+\u001b[39m\u001b[38;5;241m0.5\u001b[39m)    \u001b[38;5;66;03m# Relaxation frequency\u001b[39;00m\n\u001b[1;32m     11\u001b[0m \u001b[38;5;66;03m# lattice velocities\u001b[39;00m\n\u001b[0;32m---> 12\u001b[0m v \u001b[38;5;241m=\u001b[39m \u001b[43mtensor\u001b[49m([\n\u001b[1;32m     13\u001b[0m             [\u001b[38;5;241m1\u001b[39m,\u001b[38;5;241m1\u001b[39m],\n\u001b[1;32m     14\u001b[0m             [\u001b[38;5;241m1\u001b[39m,\u001b[38;5;241m0\u001b[39m],\n\u001b[1;32m     15\u001b[0m             [\u001b[38;5;241m1\u001b[39m,\u001b[38;5;241m-\u001b[39m\u001b[38;5;241m1\u001b[39m],\n\u001b[1;32m     16\u001b[0m             [\u001b[38;5;241m0\u001b[39m,\u001b[38;5;241m1\u001b[39m],\n\u001b[1;32m     17\u001b[0m             [\u001b[38;5;241m0\u001b[39m,\u001b[38;5;241m0\u001b[39m],\n\u001b[1;32m     18\u001b[0m             [\u001b[38;5;241m0\u001b[39m,\u001b[38;5;241m-\u001b[39m\u001b[38;5;241m1\u001b[39m],\n\u001b[1;32m     19\u001b[0m             [\u001b[38;5;241m-\u001b[39m\u001b[38;5;241m1\u001b[39m,\u001b[38;5;241m1\u001b[39m],\n\u001b[1;32m     20\u001b[0m             [\u001b[38;5;241m-\u001b[39m\u001b[38;5;241m1\u001b[39m,\u001b[38;5;241m0\u001b[39m],\n\u001b[1;32m     21\u001b[0m             [\u001b[38;5;241m-\u001b[39m\u001b[38;5;241m1\u001b[39m,\u001b[38;5;241m-\u001b[39m\u001b[38;5;241m1\u001b[39m]\n\u001b[1;32m     22\u001b[0m             ])\u001b[38;5;241m.\u001b[39mint()\u001b[38;5;241m.\u001b[39mto(device)\n\u001b[1;32m     24\u001b[0m \u001b[38;5;66;03m# weights\u001b[39;00m\n\u001b[1;32m     25\u001b[0m t \u001b[38;5;241m=\u001b[39m tensor([\n\u001b[1;32m     26\u001b[0m             \u001b[38;5;241m1\u001b[39m\u001b[38;5;241m/\u001b[39m\u001b[38;5;241m36\u001b[39m,\n\u001b[1;32m     27\u001b[0m             \u001b[38;5;241m1\u001b[39m\u001b[38;5;241m/\u001b[39m\u001b[38;5;241m9\u001b[39m,\n\u001b[0;32m   (...)\u001b[0m\n\u001b[1;32m     34\u001b[0m             \u001b[38;5;241m1\u001b[39m\u001b[38;5;241m/\u001b[39m\u001b[38;5;241m36\u001b[39m\n\u001b[1;32m     35\u001b[0m             ])\u001b[38;5;241m.\u001b[39mfloat()\u001b[38;5;241m.\u001b[39mto(device)\n",
      "\u001b[0;31mNameError\u001b[0m: name 'tensor' is not defined"
     ]
    }
   ],
   "source": [
    "Re = 10.0                  # Reynolds number\n",
    "#------------------------------------------------------------------------------\n",
    "maxIter = 1000              # Total number of iterations\n",
    "nx,ny = 420,180             # Domain dimensions (lattice nodes)\n",
    "ly = ny-1                   # Height of the domain in lattice units\n",
    "uLB = 0.04                  # Velocity in lattice units\n",
    "cx,cy,r = nx//4,ny//2,ny/9  # Cylinder coordinates and radius (as integers)\n",
    "nulb = uLB*r/Re             # Viscosity in lattice units\n",
    "omega = 1 / (3*nulb+0.5)    # Relaxation frequency\n",
    "\n",
    "# lattice velocities\n",
    "v = tensor([\n",
    "            [1,1],\n",
    "            [1,0],\n",
    "            [1,-1],\n",
    "            [0,1],\n",
    "            [0,0],\n",
    "            [0,-1],\n",
    "            [-1,1],\n",
    "            [-1,0],\n",
    "            [-1,-1]\n",
    "            ]).int().to(device)\n",
    "\n",
    "# weights\n",
    "t = tensor([\n",
    "            1/36,\n",
    "            1/9,\n",
    "            1/36,\n",
    "            1/9,\n",
    "            4/9,\n",
    "            1/9,\n",
    "            1/36,\n",
    "            1/9,\n",
    "            1/36\n",
    "            ]).float().to(device)\n",
    "\n",
    "# these variables used to group indices\n",
    "col_0 = tensor([0,1,2]).long().to(device)\n",
    "col_1 = tensor([3,4,5]).long().to(device)\n",
    "col_2 = tensor([6,7,8]).long().to(device)\n",
    "\n",
    "#------------------------------------------------------------------------------\n",
    "# instantiate the obstacle\n",
    "#obstacle = tensor(fromfunction(obstacle_fun(cx,cy,r),(nx, ny))).to(device)\n",
    "kwargs['shape'] = [nx,ny]\n",
    "obstacle = tensor(~ps.generators.blobs(**kwargs)).to(device)\n",
    "#obstacle = torch.tensor(fromfunction(obstacle_fun(cx,cy,r),(nx, ny)))\n",
    "plt.imshow(obstacle.cpu())\n",
    "#------------------------------------------------------------------------------\n",
    "\n",
    "# initial velocity profile\n",
    "vel = inivel(uLB, ly, 2, nx, ny)\n",
    "\n",
    "#--------------------------------------------------------------\n",
    "# initialize fin to equilibirum (rho = 1)\n",
    "fin = equilibrium(1,vel,v,t,nx,ny).to(device)\n"
   ]
  },
  {
   "cell_type": "code",
   "execution_count": 6,
   "id": "73787abb",
   "metadata": {},
   "outputs": [
    {
     "name": "stderr",
     "output_type": "stream",
     "text": [
      "  0%|                                                  | 0/1000 [00:00<?, ?it/s]\n"
     ]
    },
    {
     "ename": "NameError",
     "evalue": "name 'fin' is not defined",
     "output_type": "error",
     "traceback": [
      "\u001b[0;31m---------------------------------------------------------------------------\u001b[0m",
      "\u001b[0;31mNameError\u001b[0m                                 Traceback (most recent call last)",
      "Cell \u001b[0;32mIn[6], line 7\u001b[0m\n\u001b[1;32m      4\u001b[0m t0 \u001b[38;5;241m=\u001b[39m ti()\n\u001b[1;32m      5\u001b[0m \u001b[38;5;28;01mfor\u001b[39;00m time \u001b[38;5;129;01min\u001b[39;00m tqdm(\u001b[38;5;28mrange\u001b[39m(maxIter)):\n\u001b[1;32m      6\u001b[0m     \u001b[38;5;66;03m# outflow boundary condition (right side) NEUMANN BC! No gradient\u001b[39;00m\n\u001b[0;32m----> 7\u001b[0m     fin[col_2,\u001b[38;5;241m-\u001b[39m\u001b[38;5;241m1\u001b[39m,:] \u001b[38;5;241m=\u001b[39m \u001b[43mfin\u001b[49m[col_2,\u001b[38;5;241m-\u001b[39m\u001b[38;5;241m2\u001b[39m,:]\n\u001b[1;32m      9\u001b[0m     \u001b[38;5;66;03m# compute macroscopic variables\u001b[39;00m\n\u001b[1;32m     10\u001b[0m     rho,u \u001b[38;5;241m=\u001b[39m macroscopic(fin,nx,ny,v)\n",
      "\u001b[0;31mNameError\u001b[0m: name 'fin' is not defined"
     ]
    }
   ],
   "source": [
    "#==============================================================================\n",
    "#   Time-Stepping\n",
    "#==============================================================================\n",
    "t0 = ti()\n",
    "for time in tqdm(range(maxIter)):\n",
    "    # outflow boundary condition (right side) NEUMANN BC! No gradient\n",
    "    fin[col_2,-1,:] = fin[col_2,-2,:]\n",
    "\n",
    "    # compute macroscopic variables\n",
    "    rho,u = macroscopic(fin,nx,ny,v)\n",
    "\n",
    "    # inlet boundary condition (left wall)\n",
    "    u[:,0,:] = vel[:,0,:]\n",
    "    rho[0,:] = 1/(1-u[0,0,:])*( tsum(fin[col_1,0,:], axis = 0)+\n",
    "                                2*tsum(fin[col_2,0,:], axis = 0))\n",
    "\n",
    "    # Equilibrium\n",
    "    feq = equilibrium(rho,u,v,t,nx,ny)\n",
    "\n",
    "    fin[col_0,0,:] = feq[col_0,0,:] + fin[col_2,0,:]-feq[col_2,0,:]\n",
    "\n",
    "    # Collide\n",
    "    fout = fin - omega*(fin-feq)\n",
    "\n",
    "    # bounceback:\n",
    "    # refer to the lattice numbering scheme to see 8-i is always the opposite of\n",
    "    # direction i!\n",
    "    for i in range(9):\n",
    "        fout[i,obstacle] = fin[8-i,obstacle]\n",
    "\n",
    "    # stream\n",
    "    for i in range(9):\n",
    "        # be careful with this -> roll cycles through an array by an axis\n",
    "        # and the last element becomes the first. this implements a periodic\n",
    "        # boundary in a very compact syntax, but needs to be reworked for other\n",
    "        # implementations\n",
    "        fin[i,:,:] = roll(\n",
    "                          roll(\n",
    "                                fout[i,:,:], v[i,0].item(), dims = 0\n",
    "                               ),\n",
    "                          v[i,1].item(), dims = 1\n",
    "                          )\n",
    "\n",
    "    # Output an image every 100 iterations\n",
    "    if (time%100 == 0):\n",
    "        plt.clf()\n",
    "        u_cpu = u.cpu()\n",
    "        x_temp = int(round(5*nx/ny))\n",
    "        y_temp = int(round(5))\n",
    "        plt.imshow(sqrt(u_cpu[0]**2+u_cpu[1]**2).T, cmap = 'Reds')\n",
    "        #plt.axis('equal')\n",
    "        #plt.savefig(\"vel{0:03d}.png\".format(time//100))\n",
    "tf = ti() - t0\n",
    "print(\"time to execute = \",tf)"
   ]
  },
  {
   "cell_type": "code",
   "execution_count": null,
   "id": "51ea4572",
   "metadata": {},
   "outputs": [],
   "source": []
  },
  {
   "cell_type": "code",
   "execution_count": null,
   "id": "6cc7f383",
   "metadata": {},
   "outputs": [],
   "source": []
  }
 ],
 "metadata": {
  "kernelspec": {
   "display_name": "Python 3 (ipykernel)",
   "language": "python",
   "name": "python3"
  },
  "language_info": {
   "codemirror_mode": {
    "name": "ipython",
    "version": 3
   },
   "file_extension": ".py",
   "mimetype": "text/x-python",
   "name": "python",
   "nbconvert_exporter": "python",
   "pygments_lexer": "ipython3",
   "version": "3.10.9"
  }
 },
 "nbformat": 4,
 "nbformat_minor": 5
}
