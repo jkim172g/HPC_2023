{
 "cells": [
  {
   "cell_type": "code",
   "execution_count": 1,
   "id": "0d2cd124",
   "metadata": {},
   "outputs": [],
   "source": [
    "import numpy, time\n",
    "from numba import jit, cuda\n",
    "import numpy as np"
   ]
  },
  {
   "cell_type": "code",
   "execution_count": 2,
   "id": "4cb0947b",
   "metadata": {},
   "outputs": [
    {
     "ename": "NameError",
     "evalue": "name 'timer' is not defined",
     "output_type": "error",
     "traceback": [
      "\u001b[0;31m---------------------------------------------------------------------------\u001b[0m",
      "\u001b[0;31mNameError\u001b[0m                                 Traceback (most recent call last)",
      "Cell \u001b[0;32mIn[2], line 40\u001b[0m\n\u001b[1;32m     37\u001b[0m blockdim \u001b[38;5;241m=\u001b[39m (\u001b[38;5;241m32\u001b[39m, \u001b[38;5;241m8\u001b[39m)\n\u001b[1;32m     38\u001b[0m griddim \u001b[38;5;241m=\u001b[39m (\u001b[38;5;241m32\u001b[39m,\u001b[38;5;241m16\u001b[39m)\n\u001b[0;32m---> 40\u001b[0m start \u001b[38;5;241m=\u001b[39m \u001b[43mtimer\u001b[49m()\n\u001b[1;32m     41\u001b[0m d_image \u001b[38;5;241m=\u001b[39m cuda\u001b[38;5;241m.\u001b[39mto_device(gimage)\n\u001b[1;32m     42\u001b[0m mandel_kernel[griddim, blockdim](\u001b[38;5;241m-\u001b[39m\u001b[38;5;241m2.0\u001b[39m, \u001b[38;5;241m1.0\u001b[39m, \u001b[38;5;241m-\u001b[39m\u001b[38;5;241m1.0\u001b[39m, \u001b[38;5;241m1.0\u001b[39m, d_image, \u001b[38;5;241m20\u001b[39m) \n",
      "\u001b[0;31mNameError\u001b[0m: name 'timer' is not defined"
     ]
    }
   ],
   "source": [
    "@cuda.jit(device=True)\n",
    "def mandel(x, y, max_iters):\n",
    "  \"\"\"\n",
    "  Given the real and imaginary parts of a complex number,\n",
    "  determine if it is a candidate for membership in the Mandelbrot\n",
    "  set given a fixed number of iterations.\n",
    "  \"\"\"\n",
    "  c = complex(x, y)\n",
    "  z = 0.0j\n",
    "  for i in range(max_iters):\n",
    "    z = z*z + c\n",
    "    if (z.real*z.real + z.imag*z.imag) >= 4:\n",
    "      return i\n",
    "\n",
    "  return max_iters\n",
    "\n",
    "@cuda.jit\n",
    "def mandel_kernel(min_x, max_x, min_y, max_y, image, iters):\n",
    "  height = image.shape[0]\n",
    "  width = image.shape[1]\n",
    "\n",
    "  pixel_size_x = (max_x - min_x) / width\n",
    "  pixel_size_y = (max_y - min_y) / height\n",
    "\n",
    "  startX = cuda.blockDim.x * cuda.blockIdx.x + cuda.threadIdx.x\n",
    "  startY = cuda.blockDim.y * cuda.blockIdx.y + cuda.threadIdx.y\n",
    "  gridX = cuda.gridDim.x * cuda.blockDim.x;\n",
    "  gridY = cuda.gridDim.y * cuda.blockDim.y;\n",
    "\n",
    "  for x in range(startX, width, gridX):\n",
    "    real = min_x + x * pixel_size_x\n",
    "    for y in range(startY, height, gridY):\n",
    "      imag = min_y + y * pixel_size_y \n",
    "      image[y, x] = mandel(real, imag, iters)\n",
    "\n",
    "gimage = np.zeros((1024, 1536), dtype = np.uint8)\n",
    "blockdim = (32, 8)\n",
    "griddim = (32,16)\n",
    "\n",
    "start = timer()\n",
    "d_image = cuda.to_device(gimage)\n",
    "mandel_kernel[griddim, blockdim](-2.0, 1.0, -1.0, 1.0, d_image, 20) \n",
    "d_image.to_host()\n",
    "dt = timer() - start\n",
    "\n",
    "print (\"Mandelbrot created on GPU in %f s\" % dt)\n",
    "\n",
    "imshow(gimage)"
   ]
  },
  {
   "cell_type": "code",
   "execution_count": 58,
   "id": "1870506c",
   "metadata": {},
   "outputs": [],
   "source": []
  },
  {
   "cell_type": "code",
   "execution_count": 59,
   "id": "63d89e6a",
   "metadata": {},
   "outputs": [],
   "source": []
  },
  {
   "cell_type": "code",
   "execution_count": 60,
   "id": "b122b08c",
   "metadata": {},
   "outputs": [],
   "source": []
  },
  {
   "cell_type": "code",
   "execution_count": 61,
   "id": "435a68da",
   "metadata": {},
   "outputs": [
    {
     "ename": "AttributeError",
     "evalue": "module 'numba.cuda' has no attribute 'malloc'",
     "output_type": "error",
     "traceback": [
      "\u001b[0;31m---------------------------------------------------------------------------\u001b[0m",
      "\u001b[0;31mAttributeError\u001b[0m                            Traceback (most recent call last)",
      "Cell \u001b[0;32mIn[61], line 3\u001b[0m\n\u001b[1;32m      1\u001b[0m start \u001b[38;5;241m=\u001b[39m time\u001b[38;5;241m.\u001b[39mperf_counter()\n\u001b[0;32m----> 3\u001b[0m a_gpu \u001b[38;5;241m=\u001b[39m \u001b[43mcuda\u001b[49m\u001b[38;5;241;43m.\u001b[39;49m\u001b[43mmalloc\u001b[49m(a\u001b[38;5;241m.\u001b[39msize \u001b[38;5;241m*\u001b[39m a\u001b[38;5;241m.\u001b[39mdtype\u001b[38;5;241m.\u001b[39mitemsize)\n\u001b[1;32m      4\u001b[0m b_gpu \u001b[38;5;241m=\u001b[39m cuda\u001b[38;5;241m.\u001b[39mmem_alloc(b\u001b[38;5;241m.\u001b[39msize \u001b[38;5;241m*\u001b[39m b\u001b[38;5;241m.\u001b[39mdtype\u001b[38;5;241m.\u001b[39mitemsize)\n\u001b[1;32m      5\u001b[0m c_gpu \u001b[38;5;241m=\u001b[39m cuda\u001b[38;5;241m.\u001b[39mmem_alloc(c\u001b[38;5;241m.\u001b[39msize \u001b[38;5;241m*\u001b[39m c\u001b[38;5;241m.\u001b[39mdtype\u001b[38;5;241m.\u001b[39mitemsize)\n",
      "\u001b[0;31mAttributeError\u001b[0m: module 'numba.cuda' has no attribute 'malloc'"
     ]
    }
   ],
   "source": []
  },
  {
   "cell_type": "code",
   "execution_count": null,
   "id": "9bb4aa66",
   "metadata": {},
   "outputs": [],
   "source": []
  },
  {
   "cell_type": "code",
   "execution_count": null,
   "id": "77ad3cb8",
   "metadata": {},
   "outputs": [],
   "source": []
  }
 ],
 "metadata": {
  "kernelspec": {
   "display_name": "Python 3 (ipykernel)",
   "language": "python",
   "name": "python3"
  },
  "language_info": {
   "codemirror_mode": {
    "name": "ipython",
    "version": 3
   },
   "file_extension": ".py",
   "mimetype": "text/x-python",
   "name": "python",
   "nbconvert_exporter": "python",
   "pygments_lexer": "ipython3",
   "version": "3.10.9"
  }
 },
 "nbformat": 4,
 "nbformat_minor": 5
}
